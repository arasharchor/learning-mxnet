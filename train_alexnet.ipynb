{
 "cells": [
  {
   "cell_type": "markdown",
   "metadata": {},
   "source": [
    "# AlexNet for CIFAR-10 by MXNet\n",
    "\n",
    "The samll AlexNet is a four-layer Convolutional Neural Network. The training image's shape is (3, 24, 24) with random cropping and mirror. You can find the layer definition [here](https://code.google.com/p/cuda-convnet/source/browse/trunk/example-layers/layers-conv-local-13pct.cfg) and the layer parameter [here](https://code.google.com/p/cuda-convnet/source/browse/trunk/example-layers/layer-params-conv-local-13pct.cfg). AlexNet symbol definition is in symbol_alexnet.py."
   ]
  },
  {
   "cell_type": "code",
   "execution_count": 1,
   "metadata": {
    "collapsed": false
   },
   "outputs": [],
   "source": [
    "import find_mxnet\n",
    "import mxnet as mx\n",
    "import train_model\n",
    "import logging\n",
    "\n",
    "from symbol_alexnet import get_symbol\n",
    "from train_cifar10 import get_parser, get_iterator"
   ]
  },
  {
   "cell_type": "code",
   "execution_count": null,
   "metadata": {
    "collapsed": false
   },
   "outputs": [],
   "source": [
    "args = get_parser().parse_args([])\n",
    "net = get_symbol(10)\n",
    "train_model.fit(args, net, get_iterator)"
   ]
  }
 ],
 "metadata": {
  "kernelspec": {
   "display_name": "Python 2",
   "language": "python",
   "name": "python2"
  },
  "language_info": {
   "codemirror_mode": {
    "name": "ipython",
    "version": 2
   },
   "file_extension": ".py",
   "mimetype": "text/x-python",
   "name": "python",
   "nbconvert_exporter": "python",
   "pygments_lexer": "ipython2",
   "version": "2.7.6"
  }
 },
 "nbformat": 4,
 "nbformat_minor": 0
}

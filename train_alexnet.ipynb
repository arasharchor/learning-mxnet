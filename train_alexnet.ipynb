{
 "cells": [
  {
   "cell_type": "markdown",
   "metadata": {},
   "source": [
    "# AlexNet for CIFAR-10 by MXNet\n",
    "\n",
    "The samll AlexNet is a four-layer Convolutional Neural Network. The training image's shape is (3, 24, 24) with random cropping and mirroring. You can find the layer definition [here](https://code.google.com/p/cuda-convnet/source/browse/trunk/example-layers/layers-conv-local-13pct.cfg) and the layer parameter [here](https://code.google.com/p/cuda-convnet/source/browse/trunk/example-layers/layer-params-conv-local-13pct.cfg). AlexNet symbol definition is in symbol_alexnet.py."
   ]
  },
  {
   "cell_type": "markdown",
   "metadata": {},
   "source": [
    "# Display"
   ]
  },
  {
   "cell_type": "code",
   "execution_count": null,
   "metadata": {
    "collapsed": true
   },
   "outputs": [],
   "source": [
    "import find_mxnet\n",
    "import mxnet as mx\n",
    "import numpy as np\n",
    "import matplotlib.pyplot as plt\n",
    "#import os\n",
    "\n",
    "batch_size = 40\n",
    "data_shape = (3, 64, 64)#(784, )\n",
    "data_dir = \"\"#+os.getcwd()+\"/\"\n",
    "\n",
    "test_iter = mx.io.ImageRecordIter(\n",
    "            path_imgrec = data_dir + \"test_images.rec\",\n",
    "            path_imglist= data_dir + \"test_images.lst\",\n",
    "            data_shape  = data_shape,\n",
    "            batch_size  = batch_size,\n",
    "            shuffle     = True,\n",
    "            flat        = False)\n",
    "X_test = test_iter.getdata().asnumpy()\n",
    "for i in range(10):\n",
    "    plt.subplot(1,10,i+1)\n",
    "    X=X_test[i]\n",
    "    print X[:,:,0]\n",
    "    X=np.swapaxes(X, 0, 2)\n",
    "    #X=np.swapaxes(X, 0, 1)\n",
    "    plt.imshow(X)\n",
    "    plt.axis('off')\n",
    "plt.show()\n"
   ]
  },
  {
   "cell_type": "code",
   "execution_count": 1,
   "metadata": {
    "collapsed": false,
    "scrolled": true
   },
   "outputs": [
    {
     "data": {
      "text/plain": [
       "<module 'logging' from '/usr/lib/python2.7/logging/__init__.pyc'>"
      ]
     },
     "execution_count": 1,
     "metadata": {},
     "output_type": "execute_result"
    }
   ],
   "source": [
    "import find_mxnet\n",
    "import mxnet as mx\n",
    "import train_model\n",
    "import importlib\n",
    "import logging\n",
    "from train_cifar10 import get_parser, get_iterator\n",
    "\n",
    "reload(logging)"
   ]
  },
  {
   "cell_type": "code",
   "execution_count": null,
   "metadata": {
    "collapsed": false,
    "scrolled": true
   },
   "outputs": [
    {
     "name": "stderr",
     "output_type": "stream",
     "text": [
      "2016-07-22 19:05:34,113 Node[0] start with arguments Namespace(batch_size=128, gpus=None, kv_store='local', load_epoch=None, log_dir=None, log_file=None, lr=5e-05, lr_factor=1, lr_factor_epoch=1, model_prefix=None, network='alexnet', num_epochs=30, num_examples=60000, save_model_prefix='model/alexnet/alexnet')\n",
      "2016-07-22 19:05:35,413 Node[0] Start training with [cpu(0)]\n"
     ]
    }
   ],
   "source": [
    "arguments = [ '--network', 'alexnet', \n",
    "                         '--num-epochs', '30', \n",
    "                         '--lr', '5e-5', \n",
    "                         #'--model-prefix', 'model/alexnet/alexnet', \n",
    "                         #'--load-epoch', '3', \n",
    "                         '--save-model-prefix', 'model/alexnet/alexnet' ]\n",
    "\n",
    "args = get_parser().parse_args(arguments)\n",
    "net = importlib.import_module('symbol_' + args.network).get_symbol(10)\n",
    "train_model.fit(args, net, get_iterator)"
   ]
  }
 ],
 "metadata": {
  "kernelspec": {
   "display_name": "Python 2",
   "language": "python",
   "name": "python2"
  },
  "language_info": {
   "codemirror_mode": {
    "name": "ipython",
    "version": 2
   },
   "file_extension": ".py",
   "mimetype": "text/x-python",
   "name": "python",
   "nbconvert_exporter": "python",
   "pygments_lexer": "ipython2",
   "version": "2.7.6"
  }
 },
 "nbformat": 4,
 "nbformat_minor": 0
}
